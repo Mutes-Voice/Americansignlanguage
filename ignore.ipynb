{
 "cells": [
  {
   "cell_type": "markdown",
   "metadata": {},
   "source": [
    "## Importing Dependencies:"
   ]
  },
  {
   "cell_type": "code",
   "execution_count": 2,
   "metadata": {},
   "outputs": [],
   "source": [
    "import matplotlib.pyplot as plt\n",
    "import pandas as pd\n",
    "import numpy as np\n",
    "import tensorflow as tf\n",
    "import cv2\n",
    "import mediapipe as mp\n",
    "import time\n",
    "import pyttsx3"
   ]
  },
  {
   "cell_type": "markdown",
   "metadata": {},
   "source": [
    "## Importing Dataset:"
   ]
  },
  {
   "cell_type": "code",
   "execution_count": 3,
   "metadata": {},
   "outputs": [],
   "source": [
    "train = pd.read_csv(\"train.csv\")\n"
   ]
  },
  {
   "cell_type": "code",
   "execution_count": 4,
   "metadata": {},
   "outputs": [],
   "source": [
    "pq_file = \"train_landmark_files/16069/10042041.parquet\"\n"
   ]
  },
  {
   "cell_type": "code",
   "execution_count": 5,
   "metadata": {},
   "outputs": [],
   "source": [
    "\n",
    "xyz = pd.read_parquet(pq_file)"
   ]
  },
  {
   "cell_type": "code",
   "execution_count": 6,
   "metadata": {},
   "outputs": [],
   "source": [
    "ROWS_PER_FRAME = 543  # number of landmarks per frame\n",
    "\n",
    "def load_relevant_data_subset(pq_path):\n",
    "    data_columns = ['x', 'y', 'z']\n",
    "    data = pd.read_parquet(pq_path, columns=data_columns)\n",
    "    n_frames = int(len(data) / ROWS_PER_FRAME)\n",
    "    data = data.values.reshape(n_frames, ROWS_PER_FRAME, len(data_columns))\n",
    "    return data.astype(np.float32)"
   ]
  },
  {
   "cell_type": "markdown",
   "metadata": {},
   "source": [
    "## Converting Mediapipe to Dataframe:"
   ]
  },
  {
   "cell_type": "code",
   "execution_count": 7,
   "metadata": {},
   "outputs": [],
   "source": [
    "def create_frame_landmark_df(results, frame):\n",
    "    xyz_skel = xyz[['type','landmark_index']].drop_duplicates().reset_index(drop=True).copy()\n",
    "\n",
    "    face = pd.DataFrame()\n",
    "    pose = pd.DataFrame()\n",
    "    left_hand = pd.DataFrame()\n",
    "    right_hand = pd.DataFrame()\n",
    "\n",
    "    if results.face_landmarks:\n",
    "        for i, point in enumerate(results.face_landmarks.landmark):\n",
    "            face.loc[i, ['x', 'y', 'z']] = [point.x, point.y, point.z]\t\n",
    "            #face['y'] = - face['y']\n",
    "    if results.pose_landmarks:\n",
    "        for i, point in enumerate(results.pose_landmarks.landmark):\n",
    "            pose.loc[i, ['x', 'y', 'z']] = [point.x, point.y, point.z]\n",
    "\n",
    "    if results.left_hand_landmarks:\n",
    "        for i, point in enumerate(results.left_hand_landmarks.landmark):\n",
    "            left_hand.loc[i, ['x', 'y', 'z']] = [point.x, point.y, point.z]\n",
    "\n",
    "\n",
    "    if results.right_hand_landmarks:\n",
    "        for i, point in enumerate(results.right_hand_landmarks.landmark):\n",
    "            right_hand.loc[i, ['x', 'y', 'z']] = [point.x, point.y, point.z]\n",
    "\n",
    "    face = face.reset_index().rename(columns = {'index':'landmark_index'}).assign(type = 'face')\n",
    "    pose = pose.reset_index().rename(columns = {'index':'landmark_index'}).assign(type = 'pose')\n",
    "    left_hand = left_hand.reset_index().rename(columns = {'index':'landmark_index'}).assign(type = 'left_hand')\n",
    "    right_hand = right_hand.reset_index().rename(columns = {'index':'landmark_index'}).assign(type = 'right_hand')\n",
    "\n",
    "    landmarks = pd.concat([face, pose, left_hand, right_hand]).reset_index(drop = True)\n",
    "    landmarks = xyz_skel.merge(landmarks, on = ['type','landmark_index'], how = 'left')\n",
    "    landmarks = landmarks.assign(frame = frame)\n",
    "    return landmarks"
   ]
  },
  {
   "cell_type": "markdown",
   "metadata": {},
   "source": [
    "## Loading Tensorflow Model:"
   ]
  },
  {
   "cell_type": "code",
   "execution_count": 8,
   "metadata": {},
   "outputs": [],
   "source": [
    "interpreter = tf.lite.Interpreter(\"model.tflite\")\n",
    "found_signatures = list(interpreter.get_signature_list().keys())\n",
    "prediction_fn = interpreter.get_signature_runner(\"serving_default\")"
   ]
  },
  {
   "cell_type": "markdown",
   "metadata": {},
   "source": [
    "## Testing using a dataset parquet file:"
   ]
  },
  {
   "cell_type": "code",
   "execution_count": 9,
   "metadata": {},
   "outputs": [
    {
     "name": "stdout",
     "output_type": "stream",
     "text": [
      "PREDICTED SIGN: green [102], CONFIDENCE: 0.8383\n"
     ]
    },
    {
     "data": {
      "text/plain": [
       "'green'"
      ]
     },
     "execution_count": 9,
     "metadata": {},
     "output_type": "execute_result"
    }
   ],
   "source": [
    "def get_prediction(prediction_fn, pq_file):\n",
    "    xyz_np = load_relevant_data_subset(pq_file)\n",
    "    prediction = prediction_fn(inputs = xyz_np)\n",
    "    pred = prediction['outputs'].argmax()\n",
    "\n",
    "    # Add ordinally Encoded Sign (assign number to each sign name)\n",
    "    train['sign_ord'] = train['sign'].astype('category').cat.codes\n",
    "\n",
    "    # Dictionaries to translate sign <-> ordinal encoded sign\n",
    "    SIGN2ORD = train[['sign', 'sign_ord']].set_index('sign').squeeze().to_dict()\n",
    "    ORD2SIGN = train[['sign_ord', 'sign']].set_index('sign_ord').squeeze().to_dict()\n",
    "    sign = ORD2SIGN[pred]\n",
    "    pred_conf = prediction['outputs'][pred]\n",
    "    print(f'PREDICTED SIGN: {sign} [{pred}], CONFIDENCE:{ pred_conf : 0.4}')\n",
    "    return sign\n",
    "get_prediction(prediction_fn, pq_file) "
   ]
  },
  {
   "cell_type": "markdown",
   "metadata": {},
   "source": [
    "## Testing using Live-Feed and Text to Speech:"
   ]
  },
  {
   "cell_type": "code",
   "execution_count": 11,
   "metadata": {},
   "outputs": [
    {
     "name": "stdout",
     "output_type": "stream",
     "text": [
      "PREDICTED SIGN: TV [0], CONFIDENCE: nan\n",
      "PREDICTED SIGN: TV [0], CONFIDENCE: nan\n",
      "PREDICTED SIGN: elephant [69], CONFIDENCE: 0.02939\n",
      "PREDICTED SIGN: cat [38], CONFIDENCE: 0.04214\n"
     ]
    }
   ],
   "source": [
    "mp_drawing = mp.solutions.drawing_utils\n",
    "mp_drawing_styles = mp.solutions.drawing_styles\n",
    "mp_holistic = mp.solutions.holistic\n",
    "\n",
    "all_landmarks = []\n",
    "predicted_sign = \"\"\n",
    "text_position = (50, 50)\n",
    "sign_value=''\n",
    "\n",
    "# For webcam input:\n",
    "cap = cv2.VideoCapture(0,cv2.CAP_DSHOW)\n",
    "engine = pyttsx3.init()\n",
    "\n",
    "with mp_holistic.Holistic(\n",
    "  min_detection_confidence=0.5,\n",
    "  min_tracking_confidence=0.5) as holistic:\n",
    "  frame = 0\n",
    "  start_time = time.time()\n",
    "  while cap.isOpened():\n",
    "    frame += 1\n",
    "    success, image = cap.read()\n",
    "    if not success:\n",
    "      print(\"Ignoring empty camera frame.\")\n",
    "      # If loading a video, use 'break' instead of 'continue'.\n",
    "      continue\n",
    "    \n",
    "    # To improve performance, optionally mark the image as not writeable to\n",
    "    # pass by reference.\n",
    "    image.flags.writeable = False\n",
    "    image = cv2.cvtColor(image, cv2.COLOR_BGR2RGB)\n",
    "    results = holistic.process(image)\n",
    "    #Create landmark dataframe:\n",
    "    landmarks = create_frame_landmark_df(results,frame)\n",
    "    all_landmarks.append(landmarks)\n",
    "\n",
    "    # Draw landmark annotation on the image.\n",
    "    image.flags.writeable = True\n",
    "    image = cv2.cvtColor(image, cv2.COLOR_RGB2BGR)\n",
    "    mp_drawing.draw_landmarks(\n",
    "        image,\n",
    "        results.face_landmarks,\n",
    "        mp_holistic.FACEMESH_CONTOURS,\n",
    "        landmark_drawing_spec=None,\n",
    "        connection_drawing_spec=mp_drawing_styles\n",
    "        .get_default_face_mesh_contours_style())\n",
    "    mp_drawing.draw_landmarks(\n",
    "        image,\n",
    "        results.pose_landmarks,\n",
    "        mp_holistic.POSE_CONNECTIONS,\n",
    "        landmark_drawing_spec=mp_drawing_styles\n",
    "        .get_default_pose_landmarks_style())\n",
    "   \n",
    "    if time.time() - start_time >= 3:\n",
    "      if len(all_landmarks)> 0:\n",
    "        landmarks_df = pd.concat(all_landmarks).reset_index(drop=True)\n",
    "        landmarks_df.to_parquet(\"output.parquet\")\n",
    "        pq_file = \"output.parquet\"\n",
    "        sign_value = get_prediction(prediction_fn, pq_file)\n",
    "                     \n",
    "        # Update predicted_sign only when a new prediction is available\n",
    "        if predicted_sign != sign_value:\n",
    "                predicted_sign = sign_value\n",
    "                engine.say(predicted_sign)\n",
    "                engine.runAndWait()\n",
    "        \n",
    "        start_time = time.time()\n",
    "        all_landmarks = []\n",
    "\n",
    "    # Get the size of the text box\n",
    "    text_size = cv2.getTextSize(sign_value, cv2.FONT_HERSHEY_SIMPLEX, 1, 2)[0]\n",
    "\n",
    "    # Set the position for the rectangular box\n",
    "    box_position = (text_position[0] - 10, text_position[1] - text_size[1] - 10)\n",
    "\n",
    "    # Draw the white rectangular box\n",
    "    image = cv2.rectangle(image, box_position, (text_position[0] + text_size[0] + 10, text_position[1] + 10), (255, 255, 255), -1)\n",
    "\n",
    "    # Draw the text\n",
    "    image = cv2.putText(image, predicted_sign, text_position, cv2.FONT_HERSHEY_SIMPLEX, 1, (0, 0, 0), 2, cv2.LINE_AA)\n",
    "    \n",
    "    # Display the image:\n",
    "    cv2.imshow('MediaPipe Holistic', image)\n",
    "    if cv2.waitKey(1) & 0xFF == ord('q'):\n",
    "      break\n",
    "cap.release()\n",
    "cv2.destroyAllWindows()\n"
   ]
  },
  {
   "cell_type": "code",
   "execution_count": null,
   "metadata": {},
   "outputs": [],
   "source": [
    "cap.release()\n",
    "cv2.destroyAllWindows()"
   ]
  }
 ],
 "metadata": {
  "kernelspec": {
   "display_name": "Python 3",
   "language": "python",
   "name": "python3"
  },
  "language_info": {
   "codemirror_mode": {
    "name": "ipython",
    "version": 3
   },
   "file_extension": ".py",
   "mimetype": "text/x-python",
   "name": "python",
   "nbconvert_exporter": "python",
   "pygments_lexer": "ipython3",
   "version": "3.11.5"
  }
 },
 "nbformat": 4,
 "nbformat_minor": 2
}
